{
 "cells": [
  {
   "cell_type": "markdown",
   "metadata": {},
   "source": [
    "https://www.kaggle.com/code/gpreda/credit-card-fraud-detection-predictive-models\n",
    "\n",
    "https://www.kaggle.com/datasets/mlg-ulb/creditcardfraud/data"
   ]
  },
  {
   "cell_type": "code",
   "execution_count": 5,
   "metadata": {},
   "outputs": [],
   "source": [
    "import pandas as pd                 # tabular data management\n",
    "import numpy as np                  # numerical operations\n",
    "import matplotlib                   # basic plotting library and data visualization\n",
    "import matplotlib.pyplot as plt     # MATLAB style interface for creating graphs\n",
    "import seaborn as sns               # statistical graphs\n",
    "#%matplotlib inline                  # is a Jupyter-specific statement used to configure Matplotlib to display inline visualizations within the notebook document.\n",
    "import plotly.graph_objs as go \n",
    "\n"
   ]
  },
  {
   "cell_type": "code",
   "execution_count": null,
   "metadata": {},
   "outputs": [],
   "source": []
  }
 ],
 "metadata": {
  "kernelspec": {
   "display_name": "Python 3 (ipykernel)",
   "language": "python",
   "name": "python3"
  },
  "language_info": {
   "codemirror_mode": {
    "name": "ipython",
    "version": 3
   },
   "file_extension": ".py",
   "mimetype": "text/x-python",
   "name": "python",
   "nbconvert_exporter": "python",
   "pygments_lexer": "ipython3",
   "version": "3.10.9"
  }
 },
 "nbformat": 4,
 "nbformat_minor": 2
}
